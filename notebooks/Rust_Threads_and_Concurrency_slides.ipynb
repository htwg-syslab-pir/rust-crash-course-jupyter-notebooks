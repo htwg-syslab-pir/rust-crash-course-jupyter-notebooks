{
 "cells": [
  {
   "cell_type": "markdown",
   "metadata": {
    "slideshow": {
     "slide_type": "slide"
    }
   },
   "source": [
    "# Threads and Concurrency in Rust\n",
    "One of the main goals of Rust is fearless concurrency.\n",
    "<center><img src='figures/rust-logo.png'></center>\n",
    "<center><img src='figures/mandel-brot.png'></center>"
   ]
  },
  {
   "cell_type": "markdown",
   "metadata": {
    "slideshow": {
     "slide_type": "slide"
    }
   },
   "source": [
    "<center><img src='figures/process-single.png'></center>"
   ]
  },
  {
   "cell_type": "markdown",
   "metadata": {
    "slideshow": {
     "slide_type": "slide"
    }
   },
   "source": [
    "<center><img src='figures/process-threads.png'></center>"
   ]
  },
  {
   "cell_type": "markdown",
   "metadata": {
    "slideshow": {
     "slide_type": "slide"
    }
   },
   "source": [
    "<center><img src='figures/process-threads-pc.png'></center>"
   ]
  },
  {
   "cell_type": "markdown",
   "metadata": {
    "slideshow": {
     "slide_type": "slide"
    }
   },
   "source": [
    "# Threads\n",
    "---"
   ]
  },
  {
   "cell_type": "code",
   "execution_count": null,
   "metadata": {
    "slideshow": {
     "slide_type": "fragment"
    }
   },
   "outputs": [],
   "source": [
    "use std::thread;"
   ]
  },
  {
   "cell_type": "markdown",
   "metadata": {
    "slideshow": {
     "slide_type": "fragment"
    }
   },
   "source": [
    "* system is taking care of scheduling"
   ]
  },
  {
   "cell_type": "markdown",
   "metadata": {
    "slideshow": {
     "slide_type": "slide"
    }
   },
   "source": [
    "## std :: thread :: spawn\n",
    "---\n",
    "Rust allows one to create a new operating system thread by calling thread::spawn() from std::thread\n"
   ]
  },
  {
   "cell_type": "code",
   "execution_count": null,
   "metadata": {
    "slideshow": {
     "slide_type": "fragment"
    }
   },
   "outputs": [],
   "source": [
    "use std::thread;\n",
    "use std::time::Duration;\n",
    "thread::spawn(|| {\n",
    "    for i in 0..2 {\n",
    "        println!(\"hi number {} from the spawned thread!\", i);\n",
    "        thread::sleep(Duration::from_millis(1));\n",
    "    }\n",
    "});\n",
    "for i in 0..2 {\n",
    "    println!(\"hi number {} from the main thread!\", i);\n",
    "    thread::sleep(Duration::from_millis(1));\n",
    "}"
   ]
  },
  {
   "cell_type": "markdown",
   "metadata": {
    "slideshow": {
     "slide_type": "fragment"
    }
   },
   "source": [
    "* returns a **JoinHandle**\n",
    " * may outlive the parent (unless parent is the main thread)\n",
    "* signature of spawn consists of two **constraints** (Send,'static)\n",
    "\n",
    "[docs](https://doc.rust-lang.org/std/thread/fn.spawn.html )"
   ]
  },
  {
   "cell_type": "markdown",
   "metadata": {
    "slideshow": {
     "slide_type": "slide"
    }
   },
   "source": [
    "## JoinHandle constraints\n",
    "---\n",
    "\n",
    "#### 'static\n",
    "\n",
    "* lifetime until the end of the program\n",
    "  *  threads can detach and outlive the lifetime they have been created in\n",
    "\n",
    "#### Send\n",
    "\n",
    "* the closure is passed by value\n",
    "  *  from the thread where it is spawned to the new thread\n",
    "  * return value will need to be passed from the new thread to the thread where it is joined\n",
    "* **Send** trait expresses that it is safe to pass value from thread to thread.\n",
    "\n",
    "\n",
    "[docs](https://doc.rust-lang.org/std/thread/fn.spawn.html )"
   ]
  },
  {
   "cell_type": "markdown",
   "metadata": {
    "slideshow": {
     "slide_type": "slide"
    }
   },
   "source": [
    "## std :: thread :: JoinHandle\n",
    "---\n",
    "\n",
    "* can not be cloned!\n",
    "* **joinable**, waits for the thread to finish\n",
    "* **detaches** the thread when it is dropped\n",
    "  * no longer any handle to thread and no way to join on it\n",
    "\n",
    "[docs](https://doc.rust-lang.org/std/thread/struct.JoinHandle.html)"
   ]
  },
  {
   "cell_type": "markdown",
   "metadata": {
    "slideshow": {
     "slide_type": "slide"
    }
   },
   "source": [
    "### std :: thread :: JoinHandle.join()\n",
    "---\n",
    "\n",
    "```rust\n",
    "pub fn join(self) -> Result<T>\n",
    "```\n",
    "\n",
    "* if the child panics, **Err** is returned"
   ]
  },
  {
   "cell_type": "markdown",
   "metadata": {
    "slideshow": {
     "slide_type": "slide"
    }
   },
   "source": [
    "## thread join\n",
    "---"
   ]
  },
  {
   "cell_type": "code",
   "execution_count": null,
   "metadata": {
    "slideshow": {
     "slide_type": "fragment"
    }
   },
   "outputs": [],
   "source": [
    "use std::thread;\n",
    "\n",
    "let computation = thread::spawn(|| {\n",
    "    42\n",
    "});\n",
    "\n",
    "let result = computation.join().unwrap();\n",
    "println!(\"{}\", result);"
   ]
  },
  {
   "cell_type": "markdown",
   "metadata": {
    "slideshow": {
     "slide_type": "slide"
    }
   },
   "source": [
    "## thread move\n",
    "---"
   ]
  },
  {
   "cell_type": "code",
   "execution_count": null,
   "metadata": {
    "slideshow": {
     "slide_type": "fragment"
    }
   },
   "outputs": [],
   "source": [
    "use std::thread;\n",
    "//...\n",
    "let mut magic_num: i32 = 10;\n",
    "let handle = thread::spawn(move || {\n",
    "    magic_num += 1;\n",
    "    println!(\"thread: {}\", magic_num);\n",
    "    magic_num\n",
    "});\n",
    "println!(\"join: {}\", handle.join().unwrap());\n",
    "println!(\"main: {}\", magic_num);"
   ]
  },
  {
   "cell_type": "markdown",
   "metadata": {
    "slideshow": {
     "slide_type": "fragment"
    }
   },
   "source": [
    "* move – keyword to force a closure to take ownership of the values it uses"
   ]
  },
  {
   "cell_type": "markdown",
   "metadata": {
    "slideshow": {
     "slide_type": "slide"
    }
   },
   "source": [
    "## thread sleep\n",
    "---"
   ]
  },
  {
   "cell_type": "code",
   "execution_count": null,
   "metadata": {
    "slideshow": {
     "slide_type": "fragment"
    }
   },
   "outputs": [],
   "source": [
    "use std::thread;\n",
    "use std::time::Duration;\n",
    "//...\n",
    "thread::sleep(Duration::from_millis(1));"
   ]
  },
  {
   "cell_type": "markdown",
   "metadata": {
    "slideshow": {
     "slide_type": "fragment"
    }
   },
   "source": [
    "* avoid usage\n",
    "---"
   ]
  },
  {
   "cell_type": "markdown",
   "metadata": {
    "slideshow": {
     "slide_type": "slide"
    }
   },
   "source": [
    "# thread :: Builder\n",
    "---"
   ]
  },
  {
   "cell_type": "code",
   "execution_count": null,
   "metadata": {
    "slideshow": {
     "slide_type": "fragment"
    }
   },
   "outputs": [],
   "source": [
    "use std::thread;\n",
    "\n",
    "let builder = thread::Builder::new()\n",
    "    .name(\"foo\".into())\n",
    "    .stack_size(32 * 1024);\n",
    "\n",
    "let handler = builder.spawn(|| 42).unwrap();\n",
    "\n",
    "println!(\"Msg from thread: {}\", handler.join().unwrap());"
   ]
  },
  {
   "cell_type": "markdown",
   "metadata": {
    "slideshow": {
     "slide_type": "fragment"
    }
   },
   "source": [
    "[docs](https://doc.rust-lang.org/std/thread/struct.Builder.html)"
   ]
  },
  {
   "cell_type": "markdown",
   "metadata": {
    "slideshow": {
     "slide_type": "slide"
    }
   },
   "source": [
    "# detached thread example\n",
    "---"
   ]
  },
  {
   "cell_type": "code",
   "execution_count": null,
   "metadata": {
    "slideshow": {
     "slide_type": "fragment"
    }
   },
   "outputs": [],
   "source": [
    "use std::thread;\n",
    "use std::time::Duration;\n",
    "//...\n",
    "let original_thread = thread::spawn(|| {\n",
    "    let _detached_thread = thread::spawn(|| {\n",
    "        thread::sleep(Duration::from_millis(10));\n",
    "        println!(\"♫ Still alive ♫\");\n",
    "    });\n",
    "});\n",
    "original_thread.join();\n",
    "println!(\"Original thread is joined.\");\n",
    "thread::sleep(Duration::from_millis(1000));"
   ]
  },
  {
   "cell_type": "markdown",
   "metadata": {
    "slideshow": {
     "slide_type": "slide"
    }
   },
   "source": [
    "---\n",
    "# Concurrency\n",
    "* Mutual Exclusion \n",
    "* Sharing Data \n",
    "* Threading Tools"
   ]
  },
  {
   "cell_type": "markdown",
   "metadata": {
    "slideshow": {
     "slide_type": "slide"
    }
   },
   "source": [
    "## Mutual Exclusion – Mutex\n",
    "---"
   ]
  },
  {
   "cell_type": "code",
   "execution_count": null,
   "metadata": {
    "slideshow": {
     "slide_type": "fragment"
    }
   },
   "outputs": [],
   "source": [
    "use std::sync::Mutex;\n",
    "//...\n",
    "let value = 5;\n",
    "let mutex = Mutex::new(value);\n",
    "fn zero_mutex(mtx: &Mutex<u32>) {\n",
    "    let mut n = mtx.lock().unwrap();       \n",
    "    *n = 0;\n",
    "}\n",
    "zero_mutex(&mutex);\n",
    "println!(\"value in the mutex: {}\", mutex.lock().unwrap());"
   ]
  },
  {
   "cell_type": "markdown",
   "metadata": {
    "slideshow": {
     "slide_type": "fragment"
    }
   },
   "source": [
    "* a lock is required to access the variable behind the mutex (dereferencing with \\*)\n",
    "* after leaving the scope the mutex is locked again\n",
    "* poisoning @panic – all other threads are unable to access the data by default \n",
    "\n",
    "[docs](https://doc.rust-lang.org/std/sync/struct.Mutex.html)"
   ]
  },
  {
   "cell_type": "markdown",
   "metadata": {
    "slideshow": {
     "slide_type": "slide"
    }
   },
   "source": [
    "## Mutual Exclusion – Threads\n",
    "---"
   ]
  },
  {
   "cell_type": "code",
   "execution_count": null,
   "metadata": {
    "slideshow": {
     "slide_type": "fragment"
    }
   },
   "outputs": [],
   "source": [
    "use std::time::Duration;\n",
    "use std::thread;\n",
    "use std::sync::Mutex;\n",
    "//...\n",
    "let mutex = Mutex::new(5);\n",
    "let handle = thread::spawn(move || {\n",
    "    let mut n = mutex.lock().unwrap();       \n",
    "    *n = 0;\n",
    "    println!(\"thread: locked\");\n",
    "});\n",
    "mutex.lock();\n",
    "println!(\"main: after lock\");\n",
    "handle.join().unwrap();"
   ]
  },
  {
   "cell_type": "markdown",
   "metadata": {
    "slideshow": {
     "slide_type": "fragment"
    }
   },
   "source": [
    "#### error: borrow of moved value \"mutex\""
   ]
  },
  {
   "cell_type": "markdown",
   "metadata": {
    "slideshow": {
     "slide_type": "slide"
    }
   },
   "source": [
    "## Sharing Data\n",
    "---"
   ]
  },
  {
   "cell_type": "markdown",
   "metadata": {
    "slideshow": {
     "slide_type": "slide"
    }
   },
   "source": [
    "## Sharing Data – Reference Counting Rc\n",
    "---"
   ]
  },
  {
   "cell_type": "code",
   "execution_count": null,
   "metadata": {
    "slideshow": {
     "slide_type": "fragment"
    }
   },
   "outputs": [],
   "source": [
    "use std::rc::Rc;\n",
    "\n",
    "let foo = Rc::new(vec![1.0, 2.0, 3.0]);\n",
    "let a = foo.clone();\n",
    "let b = Rc::clone(&foo); // equivalent\n",
    "\n",
    "println!(\"foo address:\\t{:p}\\na address:\\t{:p}\\nb address:\\t{:p}\", a, b,foo);"
   ]
  },
  {
   "cell_type": "markdown",
   "metadata": {
    "slideshow": {
     "slide_type": "fragment"
    }
   },
   "source": [
    "* enables multiple ownership \n",
    "* smart pointer enables sharing data in single-threaded cases\n",
    "* counting the created references on the shared data\n",
    "  * keeps track of the number of references to a value which determines whether or not a value is still in use\n",
    "  * at zero references to a value, the value can be cleaned up without any references becoming invalid\n",
    "* **only for use in single-threaded scenarios**\n",
    "\n",
    "[docs](https://doc.rust-lang.org/book/ch15-04-rc.html#:~:text=To%20enable%20multiple%20ownership%2C%20Rust,value%20is%20still%20in%20use.)"
   ]
  },
  {
   "cell_type": "markdown",
   "metadata": {
    "slideshow": {
     "slide_type": "slide"
    }
   },
   "source": [
    "## Sharing Data – Atomic Reference Counting Arc\n",
    "---\n",
    "'Arc' stands for 'Atomically Reference Counted'"
   ]
  },
  {
   "cell_type": "code",
   "execution_count": null,
   "metadata": {
    "slideshow": {
     "slide_type": "fragment"
    }
   },
   "outputs": [],
   "source": [
    "use std::sync::Arc;"
   ]
  },
  {
   "cell_type": "markdown",
   "metadata": {
    "slideshow": {
     "slide_type": "fragment"
    }
   },
   "source": [
    "* thread-safe through atomic operations for its reference counting\n",
    "* provides shared ownership of a value of type **T**, which must impl. **Send** & **Sync**\n",
    "* more expensive than ordinary memory accesses\n",
    "\n",
    "[docs](https://doc.rust-lang.org/std/sync/struct.Arc.html)"
   ]
  },
  {
   "cell_type": "markdown",
   "metadata": {
    "slideshow": {
     "slide_type": "slide"
    }
   },
   "source": [
    "### Arc Example Cloning References Example\n",
    "---"
   ]
  },
  {
   "cell_type": "code",
   "execution_count": null,
   "metadata": {
    "slideshow": {
     "slide_type": "fragment"
    }
   },
   "outputs": [],
   "source": [
    "use std::sync::Arc;\n",
    "//...\n",
    "let foo = Arc::new(vec![1.0, 2.0, 3.0]);\n",
    "\n",
    "let a = foo.clone();      // points to parent memory location\n",
    "let b = Arc::clone(&foo); // equivalent\n",
    "println!(\"foo address:\\t{:p}\\na address:\\t{:p}\\nb address:\\t{:p}\", a, b,foo);"
   ]
  },
  {
   "cell_type": "markdown",
   "metadata": {
    "slideshow": {
     "slide_type": "slide"
    }
   },
   "source": [
    "### Sharing immutable data between threads\n",
    "---"
   ]
  },
  {
   "cell_type": "code",
   "execution_count": null,
   "metadata": {
    "slideshow": {
     "slide_type": "fragment"
    }
   },
   "outputs": [],
   "source": [
    "use std::sync::Arc;\n",
    "use std::thread;\n",
    "//...\n",
    "let value = Arc::new(5);\n",
    "for _ in 0..10 {\n",
    "    let value = Arc::clone(&value);\n",
    "    thread::spawn(move || {\n",
    "        println!(\"{:?}\", value);\n",
    "    });\n",
    "}"
   ]
  },
  {
   "cell_type": "markdown",
   "metadata": {
    "slideshow": {
     "slide_type": "slide"
    }
   },
   "source": [
    "### Sharing mutable data between threads\n",
    "---"
   ]
  },
  {
   "cell_type": "code",
   "execution_count": null,
   "metadata": {
    "slideshow": {
     "slide_type": "fragment"
    }
   },
   "outputs": [],
   "source": [
    "use std::sync::Arc;\n",
    "use std::thread;\n",
    "use std::sync::Mutex;\n",
    "//...\n",
    "let value = Arc::new(Mutex::new(5));\n",
    "for _ in 0..10 {\n",
    "    let value = Arc::clone(&value);\n",
    "    thread::spawn(move || {\n",
    "        let mut num = value.lock().unwrap();\n",
    "        *num +=1;\n",
    "        println!(\"{:?}\", num);\n",
    "    });\n",
    "}"
   ]
  },
  {
   "cell_type": "markdown",
   "metadata": {
    "slideshow": {
     "slide_type": "slide"
    }
   },
   "source": [
    "## Sharing Data – Channels\n",
    "---"
   ]
  },
  {
   "cell_type": "code",
   "execution_count": null,
   "metadata": {
    "slideshow": {
     "slide_type": "fragment"
    }
   },
   "outputs": [],
   "source": [
    "use std::sync::mpsc::channel;"
   ]
  },
  {
   "cell_type": "markdown",
   "metadata": {
    "slideshow": {
     "slide_type": "fragment"
    }
   },
   "source": [
    "* message passing, communicate by sending each other messages\n",
    "* consisting of a transmitter and receiver\n",
    "* Multi-producer, single-consumer\n",
    "* FIFO queue\n",
    "* channels in two flavors\n",
    "  * asynchronous – none blocking\n",
    "  * synchronous – blocking \n",
    "    * rendezvous channel if buffer size set to 0\n",
    "    \n",
    "[docs](https://doc.rust-lang.org/book/ch16-02-message-passing.html)"
   ]
  },
  {
   "cell_type": "markdown",
   "metadata": {
    "slideshow": {
     "slide_type": "slide"
    }
   },
   "source": [
    "### Channels – sync(producer, consumer)\n",
    "---\n",
    "```rust\n",
    "use std::thread;\n",
    "use std::sync::mpsc::sync_channel;\n",
    "//...\n",
    "let (tx, rx) = sync_channel(0); // rendezvous channel\n",
    "thread::spawn(move|| {\n",
    "    tx.send(10).unwrap();\n",
    "});// receive something?\n",
    "println!(\"receiving: {}\", rx.recv().unwrap());\n",
    "```"
   ]
  },
  {
   "cell_type": "markdown",
   "metadata": {
    "slideshow": {
     "slide_type": "slide"
    }
   },
   "source": [
    "### Channels – async(n-producer, consumer)\n",
    "---\n",
    "```rust\n",
    "use std::thread;\n",
    "use std::sync::mpsc::channel;\n",
    "```"
   ]
  },
  {
   "cell_type": "markdown",
   "metadata": {
    "slideshow": {
     "slide_type": "fragment"
    }
   },
   "source": [
    "```rust\n",
    "let (tx, rx) = channel();\n",
    "for i in 0..10 {\n",
    "    let tx = tx.clone();\n",
    "    thread::spawn(move || {\n",
    "        tx.send(i).unwrap();\n",
    "    });\n",
    "}\n",
    "for _ in 0..10 { // in order?\n",
    "    println!(\"receiving: {}\", rx.recv().unwrap());\n",
    "}\n",
    "```"
   ]
  },
  {
   "cell_type": "markdown",
   "metadata": {
    "slideshow": {
     "slide_type": "slide"
    }
   },
   "source": [
    "---\n",
    "# Threading Tools\n",
    "---"
   ]
  },
  {
   "cell_type": "markdown",
   "metadata": {
    "slideshow": {
     "slide_type": "slide"
    }
   },
   "source": [
    "## Tools – Crossbeam \n",
    "---\n",
    "Toolset for concurrent programming."
   ]
  },
  {
   "cell_type": "code",
   "execution_count": null,
   "metadata": {
    "slideshow": {
     "slide_type": "fragment"
    }
   },
   "outputs": [],
   "source": [
    "extern crate crossbeam;"
   ]
  },
  {
   "cell_type": "markdown",
   "metadata": {
    "slideshow": {
     "slide_type": "fragment"
    }
   },
   "source": [
    "* [source](https://github.com/crossbeam-rs/crossbeam), [crates](https://crates.io/crates/crossbeam), [docs](https://docs.rs/crossbeam/0.8.0/crossbeam/index.html)\n",
    "* Atomics, Data structures, Memory management, Utilities\n",
    "* Thread synchronization\n",
    "  * channel – multi-producer multi-consumer\n",
    "  * Parker – parking primitive.\n",
    "  * ShardedLock – sharded reader-writer lock, fast concurrent reads\n",
    "  * WaitGroup – gather/synchronizing a group"
   ]
  },
  {
   "cell_type": "markdown",
   "metadata": {
    "slideshow": {
     "slide_type": "slide"
    }
   },
   "source": [
    "## Crossbeam – ShardedLock\n",
    "---"
   ]
  },
  {
   "cell_type": "code",
   "execution_count": null,
   "metadata": {
    "slideshow": {
     "slide_type": "fragment"
    }
   },
   "outputs": [],
   "source": [
    "use crossbeam::sync::ShardedLock;\n",
    "//...\n",
    "let lock = ShardedLock::new(5);\n",
    "{\n",
    "let r1 = lock.read().unwrap();\n",
    "let r2 = lock.read().unwrap();\n",
    "} // unlock\n",
    "{\n",
    "let mut w = lock.write().unwrap();\n",
    "*w += 1;\n",
    "println!(\"w: {}\",w);\n",
    "w\n",
    "}"
   ]
  },
  {
   "cell_type": "markdown",
   "metadata": {
    "slideshow": {
     "slide_type": "fragment"
    }
   },
   "source": [
    "* made of shards, each being a RwLock occupying a single cache line\n",
    "* read operations will pick one of the shards and lock it\n",
    "* write operations need to lock all shards "
   ]
  },
  {
   "cell_type": "markdown",
   "metadata": {
    "slideshow": {
     "slide_type": "slide"
    }
   },
   "source": [
    "---\n",
    "## Tools – Rayon\n",
    "---"
   ]
  },
  {
   "cell_type": "code",
   "execution_count": null,
   "metadata": {
    "slideshow": {
     "slide_type": "fragment"
    }
   },
   "outputs": [],
   "source": [
    "extern crate rayon;"
   ]
  },
  {
   "cell_type": "markdown",
   "metadata": {
    "slideshow": {
     "slide_type": "fragment"
    }
   },
   "source": [
    "* [source](https://github.com/rayon-rs/rayon), [crates](https://crates.io/crates/rayon), [docs](https://docs.rs/rayon/1.5.0/rayon/)\n",
    "* data-parallelism library\n",
    "* easy to use\n",
    "* race rondition free\n",
    "* many parallel iterator types\n",
    "* thread pools – work-load at runtime"
   ]
  },
  {
   "cell_type": "markdown",
   "metadata": {
    "slideshow": {
     "slide_type": "slide"
    }
   },
   "source": [
    "## Rayon – parallel iterator\n",
    "---"
   ]
  },
  {
   "cell_type": "code",
   "execution_count": null,
   "metadata": {
    "slideshow": {
     "slide_type": "fragment"
    }
   },
   "outputs": [],
   "source": [
    "(0..5).for_each(|x| println!(\"{:?}\", x));"
   ]
  },
  {
   "cell_type": "code",
   "execution_count": null,
   "metadata": {
    "slideshow": {
     "slide_type": "fragment"
    }
   },
   "outputs": [],
   "source": [
    "use rayon::prelude::*;\n",
    "\n",
    "(0..5).into_par_iter().for_each(|x| println!(\"{:?}\", x));"
   ]
  },
  {
   "cell_type": "markdown",
   "metadata": {
    "slideshow": {
     "slide_type": "fragment"
    }
   },
   "source": [
    "[docs](https://docs.rs/rayon/1.5.0/rayon/iter/trait.ParallelIterator.html)"
   ]
  }
 ],
 "metadata": {
  "celltoolbar": "Slideshow",
  "kernelspec": {
   "display_name": "Rust",
   "language": "rust",
   "name": "rust"
  },
  "language_info": {
   "codemirror_mode": "rust",
   "file_extension": ".rs",
   "mimetype": "text/rust",
   "name": "Rust",
   "pygment_lexer": "rust",
   "version": ""
  }
 },
 "nbformat": 4,
 "nbformat_minor": 2
}
